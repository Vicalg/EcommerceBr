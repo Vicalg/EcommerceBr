{
 "cells": [
  {
   "cell_type": "code",
   "execution_count": 361,
   "metadata": {},
   "outputs": [],
   "source": [
    "# Installing libraries\n",
    "import pandas as pd\n",
    "import numpy as np \n",
    "import matplotlib.pyplot as plt \n",
    "import seaborn as sns\n",
    "import os\n",
    "\n",
    "sns.set_theme()\n",
    "\n",
    "\n",
    "from sklearn.preprocessing import OneHotEncoder\n",
    "\n",
    "from sklearn.tree import DecisionTreeClassifier\n",
    "from sklearn.ensemble import RandomForestClassifier\n",
    "from sklearn.svm import SVC\n",
    "from sklearn.neighbors import KNeighborsClassifier\n",
    "\n",
    "\n",
    "from sklearn.model_selection import train_test_split\n",
    "from sklearn.metrics import classification_report\n",
    "from sklearn.metrics import accuracy_score, precision_score, recall_score, f1_score, roc_auc_score, log_loss\n",
    "\n",
    "\n",
    "from imblearn.over_sampling import RandomOverSampler\n",
    "from sklearn.model_selection import cross_val_score\n",
    "\n",
    "from sklearn.model_selection import GridSearchCV\n",
    "from sklearn.model_selection import RandomizedSearchCV\n",
    "from sklearn import svm"
   ]
  },
  {
   "cell_type": "code",
   "execution_count": 192,
   "metadata": {},
   "outputs": [
    {
     "data": {
      "text/html": [
       "<div>\n",
       "<style scoped>\n",
       "    .dataframe tbody tr th:only-of-type {\n",
       "        vertical-align: middle;\n",
       "    }\n",
       "\n",
       "    .dataframe tbody tr th {\n",
       "        vertical-align: top;\n",
       "    }\n",
       "\n",
       "    .dataframe thead th {\n",
       "        text-align: right;\n",
       "    }\n",
       "</style>\n",
       "<table border=\"1\" class=\"dataframe\">\n",
       "  <thead>\n",
       "    <tr style=\"text-align: right;\">\n",
       "      <th></th>\n",
       "      <th>order_id</th>\n",
       "      <th>customer_id</th>\n",
       "      <th>city</th>\n",
       "      <th>state</th>\n",
       "      <th>status</th>\n",
       "      <th>date_purchased</th>\n",
       "      <th>date_delivered</th>\n",
       "      <th>order_item_id</th>\n",
       "      <th>product_name</th>\n",
       "      <th>price</th>\n",
       "      <th>freight_value</th>\n",
       "      <th>review_score</th>\n",
       "      <th>comment</th>\n",
       "    </tr>\n",
       "  </thead>\n",
       "  <tbody>\n",
       "    <tr>\n",
       "      <th>0</th>\n",
       "      <td>0</td>\n",
       "      <td>0</td>\n",
       "      <td>campos dos goytacazes</td>\n",
       "      <td>RJ</td>\n",
       "      <td>delivered</td>\n",
       "      <td>2017-09-13 08:00</td>\n",
       "      <td>2017-09-20 23:00</td>\n",
       "      <td>1</td>\n",
       "      <td>cool_stuff</td>\n",
       "      <td>58.9</td>\n",
       "      <td>13.29</td>\n",
       "      <td>5</td>\n",
       "      <td>NaN</td>\n",
       "    </tr>\n",
       "    <tr>\n",
       "      <th>1</th>\n",
       "      <td>1</td>\n",
       "      <td>1</td>\n",
       "      <td>santa fe do sul</td>\n",
       "      <td>SP</td>\n",
       "      <td>delivered</td>\n",
       "      <td>2017-04-26 10:00</td>\n",
       "      <td>2017-05-12 16:00</td>\n",
       "      <td>1</td>\n",
       "      <td>pet_shop</td>\n",
       "      <td>239.9</td>\n",
       "      <td>19.93</td>\n",
       "      <td>4</td>\n",
       "      <td>NaN</td>\n",
       "    </tr>\n",
       "    <tr>\n",
       "      <th>2</th>\n",
       "      <td>2</td>\n",
       "      <td>2</td>\n",
       "      <td>campinas</td>\n",
       "      <td>SP</td>\n",
       "      <td>delivered</td>\n",
       "      <td>2018-04-25 09:00</td>\n",
       "      <td>2018-04-30 17:00</td>\n",
       "      <td>1</td>\n",
       "      <td>consoles_games</td>\n",
       "      <td>639.0</td>\n",
       "      <td>11.34</td>\n",
       "      <td>4</td>\n",
       "      <td>NaN</td>\n",
       "    </tr>\n",
       "    <tr>\n",
       "      <th>3</th>\n",
       "      <td>3</td>\n",
       "      <td>3</td>\n",
       "      <td>cubatao</td>\n",
       "      <td>SP</td>\n",
       "      <td>delivered</td>\n",
       "      <td>2018-02-22 11:00</td>\n",
       "      <td>2018-03-12 18:00</td>\n",
       "      <td>1</td>\n",
       "      <td>cool_stuff</td>\n",
       "      <td>25.0</td>\n",
       "      <td>16.11</td>\n",
       "      <td>3</td>\n",
       "      <td>NaN</td>\n",
       "    </tr>\n",
       "    <tr>\n",
       "      <th>4</th>\n",
       "      <td>4</td>\n",
       "      <td>4</td>\n",
       "      <td>rio de janeiro</td>\n",
       "      <td>RJ</td>\n",
       "      <td>delivered</td>\n",
       "      <td>2017-09-11 17:00</td>\n",
       "      <td>2017-09-23 13:00</td>\n",
       "      <td>1</td>\n",
       "      <td>cool_stuff</td>\n",
       "      <td>48.9</td>\n",
       "      <td>16.60</td>\n",
       "      <td>5</td>\n",
       "      <td>NaN</td>\n",
       "    </tr>\n",
       "  </tbody>\n",
       "</table>\n",
       "</div>"
      ],
      "text/plain": [
       "   order_id  customer_id                   city state       status  \\\n",
       "0         0            0  campos dos goytacazes    RJ  delivered     \n",
       "1         1            1        santa fe do sul    SP  delivered     \n",
       "2         2            2               campinas    SP  delivered     \n",
       "3         3            3                cubatao    SP  delivered     \n",
       "4         4            4         rio de janeiro    RJ  delivered     \n",
       "\n",
       "     date_purchased    date_delivered  order_item_id    product_name  price  \\\n",
       "0  2017-09-13 08:00  2017-09-20 23:00              1      cool_stuff   58.9   \n",
       "1  2017-04-26 10:00  2017-05-12 16:00              1        pet_shop  239.9   \n",
       "2  2018-04-25 09:00  2018-04-30 17:00              1  consoles_games  639.0   \n",
       "3  2018-02-22 11:00  2018-03-12 18:00              1      cool_stuff   25.0   \n",
       "4  2017-09-11 17:00  2017-09-23 13:00              1      cool_stuff   48.9   \n",
       "\n",
       "   freight_value  review_score comment  \n",
       "0          13.29             5     NaN  \n",
       "1          19.93             4     NaN  \n",
       "2          11.34             4     NaN  \n",
       "3          16.11             3     NaN  \n",
       "4          16.60             5     NaN  "
      ]
     },
     "execution_count": 192,
     "metadata": {},
     "output_type": "execute_result"
    }
   ],
   "source": [
    "# Loading the dataframe\n",
    "filename = \"dataframe_clean.pkl\"\n",
    "path = os.path.dirname(os.getcwd()) + \"\\\\Data\\\\\" + filename\n",
    "\n",
    "df = pd.read_pickle(path)\n",
    "df.head()"
   ]
  },
  {
   "cell_type": "code",
   "execution_count": 193,
   "metadata": {},
   "outputs": [],
   "source": [
    "df[\"sent_days\"] = (df[\"date_delivered\"] - df[\"date_purchased\"]).apply(pd.Timedelta).dt.days"
   ]
  },
  {
   "cell_type": "code",
   "execution_count": 194,
   "metadata": {},
   "outputs": [],
   "source": [
    "features_cat = [\"state\", \"product_name\"]\n",
    "features_num = [\"price\", \"freight_value\", \"sent_days\"]\n",
    "\n",
    "target = [\"review_score\"]\n",
    "\n",
    "X_cat = df[features_cat]\n",
    "X_num = df[features_num]\n",
    "\n",
    "y = df[target]"
   ]
  },
  {
   "cell_type": "code",
   "execution_count": 195,
   "metadata": {},
   "outputs": [],
   "source": [
    "enc = OneHotEncoder()\n",
    "enc.fit(X_cat[[\"state\",\"product_name\"]])\n",
    "\n",
    "df_cat = pd.DataFrame(enc.transform(X_cat[[\"state\",\"product_name\"]]).toarray(), columns=enc.get_feature_names_out())"
   ]
  },
  {
   "cell_type": "code",
   "execution_count": 196,
   "metadata": {},
   "outputs": [],
   "source": [
    "X = X_num.join(df_cat, on=df_cat.index)"
   ]
  },
  {
   "cell_type": "code",
   "execution_count": 210,
   "metadata": {},
   "outputs": [],
   "source": [
    "def train_val_test(X, y, train_size=0.8, test_size=0.15, random_state=42):\n",
    "    \n",
    "     X_train_val, X_test, y_train_val, y_test = train_test_split(X, y, test_size=test_size, random_state=random_state)\n",
    "     X_train, X_val, y_train, y_val = train_test_split(X_train_val, y_train_val, test_size=1-train_size, random_state=random_state)\n",
    "     \n",
    "     return X_train, X_val, X_test, y_train, y_val, y_test"
   ]
  },
  {
   "cell_type": "code",
   "execution_count": 224,
   "metadata": {},
   "outputs": [],
   "source": [
    "X_train, X_val, X_test, y_train, y_val, y_test = train_val_test(X, y, train_size=0.8, test_size=0.15, random_state=42)"
   ]
  },
  {
   "cell_type": "code",
   "execution_count": 325,
   "metadata": {},
   "outputs": [
    {
     "name": "stdout",
     "output_type": "stream",
     "text": [
      "              precision    recall  f1-score   support\n",
      "\n",
      "           1       0.95      0.98      0.96       776\n",
      "           2       0.95      1.00      0.97       780\n",
      "           3       0.94      0.97      0.96       744\n",
      "           4       0.94      0.93      0.94       780\n",
      "           5       0.99      0.87      0.92       695\n",
      "\n",
      "    accuracy                           0.95      3775\n",
      "   macro avg       0.95      0.95      0.95      3775\n",
      "weighted avg       0.95      0.95      0.95      3775\n",
      "\n"
     ]
    }
   ],
   "source": [
    "ros = RandomOverSampler(random_state=42)\n",
    "X_res, y_res = ros.fit_resample(X, y)\n",
    "\n",
    "X_train, X_test, y_train, y_test = train_test_split(X_res, y_res, test_size=0.2, random_state=42)\n",
    "\n",
    "dtc = DecisionTreeClassifier()\n",
    "dtc.fit(X_train, y_train)\n",
    "\n",
    "y_pred = dtc.predict(X_val)\n",
    "\n",
    "print(classification_report(y_val, y_pred))"
   ]
  },
  {
   "cell_type": "code",
   "execution_count": 326,
   "metadata": {},
   "outputs": [],
   "source": [
    "importance_series_dtc = pd.Series({key: value for key,value in zip(dtc.feature_names_in_, dtc.feature_importances_)})"
   ]
  },
  {
   "cell_type": "code",
   "execution_count": 327,
   "metadata": {},
   "outputs": [
    {
     "data": {
      "image/png": "[encoded data removed]",
      "text/plain": [
       "<Figure size 1200x400 with 1 Axes>"
      ]
     },
     "metadata": {},
     "output_type": "display_data"
    }
   ],
   "source": [
    "importance_series_dtc.sort_values(ascending=False).plot(kind=\"bar\", figsize=(12,4), width=1);"
   ]
  },
  {
   "attachments": {},
   "cell_type": "markdown",
   "metadata": {},
   "source": [
    "## Hyperparameter tuning for the Decision Tree Classifier"
   ]
  },
  {
   "cell_type": "code",
   "execution_count": 267,
   "metadata": {},
   "outputs": [
    {
     "name": "stdout",
     "output_type": "stream",
     "text": [
      "Tuned Decision Tree Parameters: {'criterion': 'log_loss', 'max_depth': None, 'max_features': 9, 'min_samples_leaf': 1}\n",
      "Best score is 0.8270745543127521\n"
     ]
    }
   ],
   "source": [
    "# Creating the hyperparameter grid\n",
    "param_dist = {\"max_depth\": [3, None],\n",
    "              \"max_features\": range(1,11),\n",
    "              \"min_samples_leaf\": range(1, 11),\n",
    "              \"criterion\": [\"gini\", \"entropy\", \"log_loss\"]}\n",
    "\n",
    "\n",
    "# Instantiation of the tree\n",
    "dtc = DecisionTreeClassifier()\n",
    "\n",
    "\n",
    "# Instantiating RandomizedSearchCV object\n",
    "tree_cv = GridSearchCV(dtc, param_dist, cv = 5)\n",
    " \n",
    "tree_cv.fit(X_train, y_train)\n",
    "\n",
    "# Print the tuned parameters and score\n",
    "print(\"Tuned Decision Tree Parameters: {}\".format(tree_cv.best_params_))\n",
    "print(\"Best score is {}\".format(tree_cv.best_score_))"
   ]
  },
  {
   "cell_type": "code",
   "execution_count": 275,
   "metadata": {},
   "outputs": [
    {
     "data": {
      "text/plain": [
       "dict_keys(['mean_fit_time', 'std_fit_time', 'mean_score_time', 'std_score_time', 'param_criterion', 'param_max_depth', 'param_max_features', 'param_min_samples_leaf', 'params', 'split0_test_score', 'split1_test_score', 'split2_test_score', 'split3_test_score', 'split4_test_score', 'mean_test_score', 'std_test_score', 'rank_test_score'])"
      ]
     },
     "execution_count": 275,
     "metadata": {},
     "output_type": "execute_result"
    }
   ],
   "source": [
    "tree_cv.cv_results_.keys()"
   ]
  },
  {
   "cell_type": "code",
   "execution_count": 328,
   "metadata": {},
   "outputs": [
    {
     "name": "stdout",
     "output_type": "stream",
     "text": [
      "              precision    recall  f1-score   support\n",
      "\n",
      "           1       0.95      0.98      0.96       776\n",
      "           2       0.95      1.00      0.97       780\n",
      "           3       0.95      0.97      0.96       744\n",
      "           4       0.94      0.93      0.94       780\n",
      "           5       0.99      0.87      0.92       695\n",
      "\n",
      "    accuracy                           0.95      3775\n",
      "   macro avg       0.95      0.95      0.95      3775\n",
      "weighted avg       0.95      0.95      0.95      3775\n",
      "\n"
     ]
    }
   ],
   "source": [
    "dtc = DecisionTreeClassifier(criterion = tree_cv.best_params_[\"criterion\"],\n",
    "                             max_depth = tree_cv.best_params_[\"max_depth\"],\n",
    "                             max_features = tree_cv.best_params_[\"max_features\"],\n",
    "                             min_samples_leaf = tree_cv.best_params_[\"min_samples_leaf\"])\n",
    "dtc.fit(X_train, y_train)\n",
    "\n",
    "y_pred = dtc.predict(X_val)\n",
    "\n",
    "print(classification_report(y_val, y_pred))"
   ]
  },
  {
   "attachments": {},
   "cell_type": "markdown",
   "metadata": {},
   "source": [
    "## Random Forest"
   ]
  },
  {
   "cell_type": "code",
   "execution_count": 329,
   "metadata": {},
   "outputs": [
    {
     "name": "stdout",
     "output_type": "stream",
     "text": [
      "              precision    recall  f1-score   support\n",
      "\n",
      "           1       0.95      0.98      0.96       776\n",
      "           2       0.95      1.00      0.97       780\n",
      "           3       0.95      0.97      0.96       744\n",
      "           4       0.95      0.93      0.94       780\n",
      "           5       0.98      0.88      0.93       695\n",
      "\n",
      "    accuracy                           0.95      3775\n",
      "   macro avg       0.95      0.95      0.95      3775\n",
      "weighted avg       0.95      0.95      0.95      3775\n",
      "\n"
     ]
    }
   ],
   "source": [
    "clf = RandomForestClassifier(random_state=42)\n",
    "clf.fit(X_train, y_train.values.ravel())\n",
    "\n",
    "y_pred = clf.predict(X_val)\n",
    "\n",
    "print(classification_report(y_val, y_pred))"
   ]
  },
  {
   "attachments": {},
   "cell_type": "markdown",
   "metadata": {},
   "source": [
    "### Support Vector Machines"
   ]
  },
  {
   "cell_type": "code",
   "execution_count": 340,
   "metadata": {},
   "outputs": [
    {
     "name": "stdout",
     "output_type": "stream",
     "text": [
      "              precision    recall  f1-score   support\n",
      "\n",
      "           1       0.25      0.21      0.23      3513\n",
      "           2       0.22      0.53      0.31      3592\n",
      "           3       0.21      0.33      0.26      3563\n",
      "           4       0.24      0.02      0.04      3531\n",
      "           5       0.29      0.01      0.03      3565\n",
      "\n",
      "    accuracy                           0.22     17764\n",
      "   macro avg       0.24      0.22      0.17     17764\n",
      "weighted avg       0.24      0.22      0.17     17764\n",
      "\n"
     ]
    }
   ],
   "source": [
    "clf = SVC(decision_function_shape='ovo')\n",
    "clf.fit(X_train, y_train.values.ravel())\n",
    "\n",
    "y_pred = clf.predict(X_train)\n",
    "\n",
    "print(classification_report(y_train, y_pred))"
   ]
  },
  {
   "cell_type": "code",
   "execution_count": 349,
   "metadata": {},
   "outputs": [
    {
     "data": {
      "text/plain": [
       "['__add__',\n",
       " '__class__',\n",
       " '__contains__',\n",
       " '__delattr__',\n",
       " '__dir__',\n",
       " '__doc__',\n",
       " '__eq__',\n",
       " '__format__',\n",
       " '__ge__',\n",
       " '__getattribute__',\n",
       " '__getitem__',\n",
       " '__getnewargs__',\n",
       " '__getstate__',\n",
       " '__gt__',\n",
       " '__hash__',\n",
       " '__init__',\n",
       " '__init_subclass__',\n",
       " '__iter__',\n",
       " '__le__',\n",
       " '__len__',\n",
       " '__lt__',\n",
       " '__mod__',\n",
       " '__mul__',\n",
       " '__ne__',\n",
       " '__new__',\n",
       " '__reduce__',\n",
       " '__reduce_ex__',\n",
       " '__repr__',\n",
       " '__rmod__',\n",
       " '__rmul__',\n",
       " '__setattr__',\n",
       " '__sizeof__',\n",
       " '__str__',\n",
       " '__subclasshook__',\n",
       " 'capitalize',\n",
       " 'casefold',\n",
       " 'center',\n",
       " 'count',\n",
       " 'encode',\n",
       " 'endswith',\n",
       " 'expandtabs',\n",
       " 'find',\n",
       " 'format',\n",
       " 'format_map',\n",
       " 'index',\n",
       " 'isalnum',\n",
       " 'isalpha',\n",
       " 'isascii',\n",
       " 'isdecimal',\n",
       " 'isdigit',\n",
       " 'isidentifier',\n",
       " 'islower',\n",
       " 'isnumeric',\n",
       " 'isprintable',\n",
       " 'isspace',\n",
       " 'istitle',\n",
       " 'isupper',\n",
       " 'join',\n",
       " 'ljust',\n",
       " 'lower',\n",
       " 'lstrip',\n",
       " 'maketrans',\n",
       " 'partition',\n",
       " 'removeprefix',\n",
       " 'removesuffix',\n",
       " 'replace',\n",
       " 'rfind',\n",
       " 'rindex',\n",
       " 'rjust',\n",
       " 'rpartition',\n",
       " 'rsplit',\n",
       " 'rstrip',\n",
       " 'split',\n",
       " 'splitlines',\n",
       " 'startswith',\n",
       " 'strip',\n",
       " 'swapcase',\n",
       " 'title',\n",
       " 'translate',\n",
       " 'upper',\n",
       " 'zfill']"
      ]
     },
     "execution_count": 349,
     "metadata": {},
     "output_type": "execute_result"
    }
   ],
   "source": [
    "dir(classification_report(y_train, y_pred))"
   ]
  },
  {
   "cell_type": "code",
   "execution_count": 376,
   "metadata": {},
   "outputs": [],
   "source": [
    "X_train, X_test, y_train, y_test = train_test_split(X_res, y_res, test_size=0.2, random_state=42)\n",
    "\n",
    "list_acc = []\n",
    "list_pre = []\n",
    "list_rec = []\n",
    "list_f1s = []\n",
    "list_roc = []\n",
    "list_log = []\n",
    "\n",
    "\n",
    "for n_neighbors in range(1,101):\n",
    "    clf = KNeighborsClassifier(n_neighbors=n_neighbors)\n",
    "    clf.fit(X_train, y_train.values.ravel())\n",
    "    \n",
    "    y_pred = clf.predict(X_test)\n",
    "    y_pred_prob = clf.predict_proba(X_test)\n",
    "\n",
    "    list_acc.append(accuracy_score(y_test, y_pred))\n",
    "    list_log.append(log_loss(y_test, y_pred_prob))\n",
    "    list_pre.append(precision_score(y_test, y_pred, average=None))\n",
    "    list_rec.append(recall_score(y_test, y_pred, average=None))\n",
    "    list_f1s.append(f1_score(y_test, y_pred, average=None))\n",
    "    list_roc.append(roc_auc_score(y_test, y_pred_prob, multi_class='ovr'))"
   ]
  },
  {
   "cell_type": "code",
   "execution_count": null,
   "metadata": {},
   "outputs": [],
   "source": []
  }
 ],
 "metadata": {
  "kernelspec": {
   "display_name": "venv",
   "language": "python",
   "name": "python3"
  },
  "language_info": {
   "codemirror_mode": {
    "name": "ipython",
    "version": 3
   },
   "file_extension": ".py",
   "mimetype": "text/x-python",
   "name": "python",
   "nbconvert_exporter": "python",
   "pygments_lexer": "ipython3",
   "version": "3.11.1"
  },
  "orig_nbformat": 4
 },
 "nbformat": 4,
 "nbformat_minor": 2
}
